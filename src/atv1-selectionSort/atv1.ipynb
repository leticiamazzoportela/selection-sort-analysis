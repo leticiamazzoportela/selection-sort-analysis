{
 "cells": [
  {
   "cell_type": "markdown",
   "metadata": {},
   "source": [
    "## Exercício 1: SelectionSort\n",
    "Implemente o SelectionSort na linguagem que desejar, considerando os seguintes critérios:\n",
    "* Faça a instrumentação usando uma variável global no laço mais interno para a contagem de instruções;\n",
    "* Considere a execução do algoritmo para 3 entradas diferentes de n: **n pequeno** = 100; **n médio** = 10.000 e **n grande** = 100.000;\n",
    "* Para cada valor de n, analise o pior e o melhor caso;\n",
    "* Grave o tempo de execução"
   ]
  },
  {
   "cell_type": "markdown",
   "metadata": {},
   "source": [
    "### Gerando dados ordenados"
   ]
  },
  {
   "cell_type": "code",
   "execution_count": 5,
   "metadata": {},
   "outputs": [],
   "source": [
    "def gerarOrdenado(n):\n",
    "    data = []\n",
    "    for i in range(n, -1, -1):\n",
    "        data.append(i)\n",
    "    return data"
   ]
  },
  {
   "cell_type": "markdown",
   "metadata": {},
   "source": [
    "### Gerando dados desordenados"
   ]
  },
  {
   "cell_type": "code",
   "execution_count": 6,
   "metadata": {},
   "outputs": [],
   "source": [
    "def gerarDesordenado(n):\n",
    "    data = []\n",
    "    for i in range(0, n):\n",
    "        data.append(i)\n",
    "    return data"
   ]
  },
  {
   "cell_type": "markdown",
   "metadata": {},
   "source": [
    "### Gerando dados aleatórios"
   ]
  },
  {
   "cell_type": "code",
   "execution_count": 7,
   "metadata": {},
   "outputs": [],
   "source": [
    "from random import randint\n",
    "from random import seed\n",
    "\n",
    "def gerarAleatorio(n):\n",
    "    data = []\n",
    "    seed(1)\n",
    "    for i in range(n):\n",
    "        data.append(randint(-10, n))\n",
    "    return data"
   ]
  },
  {
   "cell_type": "markdown",
   "metadata": {},
   "source": [
    "### Implementação do SelectionSort"
   ]
  },
  {
   "cell_type": "code",
   "execution_count": 8,
   "metadata": {},
   "outputs": [],
   "source": [
    "def selectionSort(data):\n",
    "    count_instruction = 0\n",
    "    for i in range(len(data)):\n",
    "        menor = i\n",
    "        for j in range(i+1, len(data)):\n",
    "            if data[j] < data[menor]:\n",
    "                menor = j\n",
    "                count_instruction += 1\n",
    "        if menor != i:\n",
    "            data[i], data[menor] = data[menor], data[i]\n",
    "        \n",
    "    return data, count_instruction"
   ]
  },
  {
   "cell_type": "markdown",
   "metadata": {},
   "source": [
    "### Informações antes da ordenação"
   ]
  },
  {
   "cell_type": "code",
   "execution_count": 9,
   "metadata": {},
   "outputs": [],
   "source": [
    "data_sm_des = gerarDesordenado(100)\n",
    "data_md_des = gerarDesordenado(10000)\n",
    "data_xl_des = gerarDesordenado(100000)\n",
    "\n",
    "data_sm_ord = gerarOrdenado(100)\n",
    "data_md_ord = gerarOrdenado(10000)\n",
    "data_xl_ord = gerarOrdenado(100000)\n",
    "\n",
    "data_sm = gerarAleatorio(100)\n",
    "data_md = gerarAleatorio(10000)\n",
    "data_xl = gerarAleatorio(100000)"
   ]
  },
  {
   "cell_type": "markdown",
   "metadata": {},
   "source": [
    "### Informações após a ordenação"
   ]
  },
  {
   "cell_type": "code",
   "execution_count": 25,
   "metadata": {},
   "outputs": [
    {
     "name": "stdout",
     "output_type": "stream",
     "text": [
      "VETOR DESORDENADO\n",
      "\n",
      "0\n",
      "N = 100\n",
      "\n",
      "\n",
      "Número de Instruções 0\n",
      "\n",
      "Tempo de Execução: 0.000604s\n",
      "-------------------\n",
      "\n",
      "VETOR DESORDENADO\n",
      "\n",
      "1\n",
      "N = 10.000\n",
      "\n",
      "\n",
      "Número de Instruções 0\n",
      "\n",
      "Tempo de Execução: 6.971353s\n",
      "-------------------\n",
      "\n",
      "VETOR DESORDENADO\n",
      "\n",
      "2\n",
      "N = 100.000\n",
      "\n",
      "Número de Instruções 0\n",
      "\n",
      "Tempo de Execução: 669.714499s\n",
      "-------------------\n",
      "\n",
      "VETOR ORDENADO\n",
      "\n",
      "3\n",
      "N = 100\n",
      "\n",
      "\n",
      "Número de Instruções 2550\n",
      "\n",
      "Tempo de Execução: 0.000894s\n",
      "-------------------\n",
      "\n",
      "VETOR ORDENADO\n",
      "\n",
      "4\n",
      "N = 100.000\n",
      "\n",
      "Número de Instruções 25007550\n",
      "\n",
      "Tempo de Execução: 9.254244s\n",
      "-------------------\n",
      "\n",
      "VETOR ORDENADO\n",
      "\n",
      "5\n",
      "N = 10.000\n",
      "\n"
     ]
    },
    {
     "ename": "KeyboardInterrupt",
     "evalue": "",
     "output_type": "error",
     "traceback": [
      "\u001b[0;31m---------------------------------------------------------------------------\u001b[0m",
      "\u001b[0;31mKeyboardInterrupt\u001b[0m                         Traceback (most recent call last)",
      "\u001b[0;32m<ipython-input-25-4ece58b5d343>\u001b[0m in \u001b[0;36m<module>\u001b[0;34m\u001b[0m\n\u001b[1;32m     24\u001b[0m \u001b[0;34m\u001b[0m\u001b[0m\n\u001b[1;32m     25\u001b[0m     \u001b[0minicio\u001b[0m \u001b[0;34m=\u001b[0m \u001b[0mtimeit\u001b[0m\u001b[0;34m.\u001b[0m\u001b[0mdefault_timer\u001b[0m\u001b[0;34m(\u001b[0m\u001b[0;34m)\u001b[0m\u001b[0;34m\u001b[0m\u001b[0;34m\u001b[0m\u001b[0m\n\u001b[0;32m---> 26\u001b[0;31m     \u001b[0mdata\u001b[0m\u001b[0;34m,\u001b[0m \u001b[0mcount_instruction\u001b[0m \u001b[0;34m=\u001b[0m \u001b[0mselectionSort\u001b[0m\u001b[0;34m(\u001b[0m\u001b[0mvetor\u001b[0m\u001b[0;34m)\u001b[0m\u001b[0;34m\u001b[0m\u001b[0;34m\u001b[0m\u001b[0m\n\u001b[0m\u001b[1;32m     27\u001b[0m     \u001b[0mfim\u001b[0m \u001b[0;34m=\u001b[0m \u001b[0mtimeit\u001b[0m\u001b[0;34m.\u001b[0m\u001b[0mdefault_timer\u001b[0m\u001b[0;34m(\u001b[0m\u001b[0;34m)\u001b[0m\u001b[0;34m\u001b[0m\u001b[0;34m\u001b[0m\u001b[0m\n\u001b[1;32m     28\u001b[0m \u001b[0;34m\u001b[0m\u001b[0m\n",
      "\u001b[0;32m<ipython-input-8-3d1779b3311f>\u001b[0m in \u001b[0;36mselectionSort\u001b[0;34m(data)\u001b[0m\n\u001b[1;32m      5\u001b[0m         \u001b[0mmenor\u001b[0m \u001b[0;34m=\u001b[0m \u001b[0mi\u001b[0m\u001b[0;34m\u001b[0m\u001b[0;34m\u001b[0m\u001b[0m\n\u001b[1;32m      6\u001b[0m         \u001b[0;32mfor\u001b[0m \u001b[0mj\u001b[0m \u001b[0;32min\u001b[0m \u001b[0mrange\u001b[0m\u001b[0;34m(\u001b[0m\u001b[0mi\u001b[0m\u001b[0;34m+\u001b[0m\u001b[0;36m1\u001b[0m\u001b[0;34m,\u001b[0m \u001b[0mlen\u001b[0m\u001b[0;34m(\u001b[0m\u001b[0mdata\u001b[0m\u001b[0;34m)\u001b[0m\u001b[0;34m)\u001b[0m\u001b[0;34m:\u001b[0m\u001b[0;34m\u001b[0m\u001b[0;34m\u001b[0m\u001b[0m\n\u001b[0;32m----> 7\u001b[0;31m             \u001b[0;32mif\u001b[0m \u001b[0mdata\u001b[0m\u001b[0;34m[\u001b[0m\u001b[0mj\u001b[0m\u001b[0;34m]\u001b[0m \u001b[0;34m<\u001b[0m \u001b[0mdata\u001b[0m\u001b[0;34m[\u001b[0m\u001b[0mmenor\u001b[0m\u001b[0;34m]\u001b[0m\u001b[0;34m:\u001b[0m\u001b[0;34m\u001b[0m\u001b[0;34m\u001b[0m\u001b[0m\n\u001b[0m\u001b[1;32m      8\u001b[0m                 \u001b[0mmenor\u001b[0m \u001b[0;34m=\u001b[0m \u001b[0mj\u001b[0m\u001b[0;34m\u001b[0m\u001b[0;34m\u001b[0m\u001b[0m\n\u001b[1;32m      9\u001b[0m                 \u001b[0;32mglobal\u001b[0m \u001b[0mcount_instruction\u001b[0m\u001b[0;34m\u001b[0m\u001b[0;34m\u001b[0m\u001b[0m\n",
      "\u001b[0;31mKeyboardInterrupt\u001b[0m: "
     ]
    }
   ],
   "source": [
    "import timeit\n",
    "\n",
    "vetores = [data_sm_des, data_md_des, data_xl_des,\n",
    "           data_sm_ord, data_md_ord, data_xl_ord,\n",
    "           data_sm, data_md, data_xl]\n",
    "entradas = [100, 10000, 100000]\n",
    "\n",
    "for vetor in vetores:\n",
    "    aux = vetores.index(vetor)\n",
    "    if 0 <= aux <= 2:\n",
    "        print('VETOR DESORDENADO\\n')\n",
    "    elif 3 <= aux <= 5:\n",
    "        print('VETOR ORDENADO\\n')\n",
    "    else:\n",
    "        print('VETOR ALEATÓRIO\\n')\n",
    "    print(aux)\n",
    "    \n",
    "    if aux == 0 or aux == 3 or aux == 6:\n",
    "        print('N = 100\\n')\n",
    "    elif aux == 1 or aux == 4 or aux == 7:\n",
    "        print('N = 10.000\\n')\n",
    "    else:\n",
    "        print('N = 100.000')\n",
    "    \n",
    "    inicio = timeit.default_timer()\n",
    "    data, count_instruction = selectionSort(vetor)\n",
    "    fim = timeit.default_timer()\n",
    "    \n",
    "    print('\\nNúmero de Instruções %d' % count_instruction)\n",
    "    print('\\nTempo de Execução: %fs' % (fim - inicio))\n",
    "    print('-------------------\\n')\n",
    "\n",
    "# inicio = timeit.default_timer()\n",
    "# data, count_instruction = selectionSort(data_sm_des)\n",
    "# fim = timeit.default_timer()\n",
    "\n",
    "# print('VETOR DESORDENADO\\n')\n",
    "# print('__________________________\\n')\n",
    "# print('\\nNúmero de Instruções p/ n = 100: ', count_instruction)\n",
    "# print('\\nTempo de Execução p/ n = 100: %fs' % (fim - inicio))\n",
    "\n",
    "# inicio = timeit.default_timer()\n",
    "# data, count_instruction = selectionSort(data_md_des)\n",
    "# fim = timeit.default_timer()\n",
    "\n",
    "# print('\\nNúmero de Instruções p/ n = 10.000: ', count_instruction)\n",
    "# print('\\nTempo de Execução p/ n = 10.000: %fs' % (fim - inicio))\n",
    "\n",
    "# inicio = timeit.default_timer()\n",
    "# data, count_instruction = selectionSort(data_xl_des)\n",
    "# fim = timeit.default_timer()\n",
    "\n",
    "# print('\\nNúmero de Instruções p/ n = 100.000: ', count_instruction)\n",
    "# print('\\nTempo de Execução p/ n = 100.000: %fs' % (fim - inicio))\n",
    "\n",
    "# print('__________________________\\n')\n",
    "\n",
    "# print('VETOR ORDENADO\\n')\n",
    "# print('__________________________\\n')\n",
    "# inicio = timeit.default_timer()\n",
    "# data, count_instruction = selectionSort(data_sm_ord)\n",
    "# fim = timeit.default_timer()\n",
    "\n",
    "# print('\\nNúmero de Instruções p/ n = 100: ', count_instruction)\n",
    "# print('\\nTempo de Execução p/ n = 100: %fs' % (fim - inicio))\n",
    "\n",
    "# inicio = timeit.default_timer()\n",
    "# data, count_instruction = selectionSort(data_md_ord)\n",
    "# fim = timeit.default_timer()\n",
    "\n",
    "# print('\\nNúmero de Instruções p/ n = 10.000: ', count_instruction)\n",
    "# print('\\nTempo de Execução p/ n = 10.000: %fs' % (fim - inicio))\n",
    "\n",
    "# inicio = timeit.default_timer()\n",
    "# data, count_instruction = selectionSort(data_xl_ord)\n",
    "# fim = timeit.default_timer()\n",
    "\n",
    "# print('\\nNúmero de Instruções p/ n = 100.000: ', count_instruction)\n",
    "# print('\\nTempo de Execução p/ n = 100.000: %fs' % (fim - inicio))\n",
    "\n",
    "# print('__________________________\\n')\n",
    "\n",
    "# print('VETOR ALEATÓRIO\\n')\n",
    "# print('__________________________\\n')\n",
    "# inicio = timeit.default_timer()\n",
    "# data, count_instruction = selectionSort(data_sm)\n",
    "# fim = timeit.default_timer()\n",
    "\n",
    "# print('\\nNúmero de Instruções p/ n = 100', count_instruction)\n",
    "# print('\\nTempo de Execução p/ n = 100: %fs' % (fim - inicio))\n",
    "\n",
    "# inicio = timeit.default_timer()\n",
    "# data, count_instruction = selectionSort(data_md)\n",
    "# fim = timeit.default_timer()\n",
    "\n",
    "# print('\\nNúmero de Instruções p/ n = 10.000: ', count_instruction)\n",
    "# print('\\nTempo de Execução p/ n = 10.000: %fs' % (fim - inicio))\n",
    "\n",
    "# inicio = timeit.default_timer()\n",
    "# data, count_instruction = selectionSort(data_xl)\n",
    "# fim = timeit.default_timer()\n",
    "\n",
    "# print('\\nNúmero de Instruções p/ n = 100.000: ', count_instruction)\n",
    "# print('\\nTempo de Execução p/ n = 100.000: %fs' % (fim - inicio))\n",
    "# print('__________________________\\n')"
   ]
  },
  {
   "cell_type": "code",
   "execution_count": null,
   "metadata": {},
   "outputs": [],
   "source": []
  }
 ],
 "metadata": {
  "kernelspec": {
   "display_name": "Python 3",
   "language": "python",
   "name": "python3"
  },
  "language_info": {
   "codemirror_mode": {
    "name": "ipython",
    "version": 3
   },
   "file_extension": ".py",
   "mimetype": "text/x-python",
   "name": "python",
   "nbconvert_exporter": "python",
   "pygments_lexer": "ipython3",
   "version": "3.7.1"
  }
 },
 "nbformat": 4,
 "nbformat_minor": 2
}
