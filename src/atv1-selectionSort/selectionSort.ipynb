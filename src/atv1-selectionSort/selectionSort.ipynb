{
 "cells": [
  {
   "cell_type": "markdown",
   "metadata": {},
   "source": [
    "## SelectionSort\n",
    "Implemente o SelectionSort na linguagem que desejar, considerando os seguintes critérios:\n",
    "* Faça a instrumentação usando uma variável global no laço mais interno para a contagem de instruções;\n",
    "* Considere a execução do algoritmo para 3 entradas diferentes de n: **n pequeno** = 100; **n médio** = 10.000 e **n grande** = 100.000;\n",
    "* Para cada valor de n, analise o pior e o melhor caso;\n",
    "* Grave o tempo de execução"
   ]
  },
  {
   "cell_type": "markdown",
   "metadata": {},
   "source": [
    "### Gerando dados Desordenados"
   ]
  },
  {
   "cell_type": "code",
   "execution_count": 2,
   "metadata": {},
   "outputs": [],
   "source": [
    "def gerarDesordenado(n):\n",
    "    data = []\n",
    "    for i in range(n, -1, -1):\n",
    "        data.append(i)\n",
    "    return data"
   ]
  },
  {
   "cell_type": "markdown",
   "metadata": {},
   "source": [
    "### Gerando dados ordenados"
   ]
  },
  {
   "cell_type": "code",
   "execution_count": 3,
   "metadata": {},
   "outputs": [],
   "source": [
    "def gerarOrdenado(n):\n",
    "    data = []\n",
    "    for i in range(0, n):\n",
    "        data.append(i)\n",
    "    return data"
   ]
  },
  {
   "cell_type": "markdown",
   "metadata": {},
   "source": [
    "### Gerando dados aleatórios"
   ]
  },
  {
   "cell_type": "code",
   "execution_count": 4,
   "metadata": {},
   "outputs": [],
   "source": [
    "from random import randint\n",
    "from random import seed\n",
    "\n",
    "def gerarAleatorio(n):\n",
    "    data = []\n",
    "    seed(1)\n",
    "    for i in range(n):\n",
    "        data.append(randint(-10, n))\n",
    "    return data"
   ]
  },
  {
   "cell_type": "markdown",
   "metadata": {},
   "source": [
    "### Implementação do SelectionSort"
   ]
  },
  {
   "cell_type": "code",
   "execution_count": 5,
   "metadata": {},
   "outputs": [],
   "source": [
    "def selectionSort(data):\n",
    "    count_instruction = 0\n",
    "    for i in range(len(data)):\n",
    "        menor = i\n",
    "        for j in range(i+1, len(data)):\n",
    "            if data[j] < data[menor]:\n",
    "                menor = j\n",
    "                count_instruction += 1\n",
    "        if menor != i:\n",
    "            data[i], data[menor] = data[menor], data[i]\n",
    "        \n",
    "    return data, count_instruction"
   ]
  },
  {
   "cell_type": "markdown",
   "metadata": {},
   "source": [
    "### Informações antes da ordenação"
   ]
  },
  {
   "cell_type": "code",
   "execution_count": 6,
   "metadata": {},
   "outputs": [],
   "source": [
    "data_sm_des = gerarDesordenado(100)\n",
    "data_md_des = gerarDesordenado(10000)\n",
    "data_xl_des = gerarDesordenado(100000)\n",
    "\n",
    "data_sm_ord = gerarOrdenado(100)\n",
    "data_md_ord = gerarOrdenado(10000)\n",
    "data_xl_ord = gerarOrdenado(100000)\n",
    "\n",
    "data_sm = gerarAleatorio(100)\n",
    "data_md = gerarAleatorio(10000)\n",
    "data_xl = gerarAleatorio(100000)"
   ]
  },
  {
   "cell_type": "markdown",
   "metadata": {},
   "source": [
    "### Informações após a ordenação"
   ]
  },
  {
   "cell_type": "code",
   "execution_count": 7,
   "metadata": {},
   "outputs": [
    {
     "name": "stdout",
     "output_type": "stream",
     "text": [
      "VETOR DESORDENADO\n",
      "\n",
      "0\n",
      "N = 100\n",
      "\n",
      "\n",
      "Número de Instruções 2550\n",
      "\n",
      "Tempo de Execução: 0.002274s\n",
      "-------------------\n",
      "\n",
      "VETOR DESORDENADO\n",
      "\n",
      "1\n",
      "N = 10.000\n",
      "\n",
      "\n",
      "Número de Instruções 25005000\n",
      "\n",
      "Tempo de Execução: 8.645921s\n",
      "-------------------\n",
      "\n",
      "VETOR DESORDENADO\n",
      "\n",
      "2\n",
      "N = 100.000\n",
      "\n",
      "Número de Instruções 2500050000\n",
      "\n",
      "Tempo de Execução: 921.534761s\n",
      "-------------------\n",
      "\n",
      "VETOR ORDENADO\n",
      "\n",
      "3\n",
      "N = 100\n",
      "\n",
      "\n",
      "Número de Instruções 0\n",
      "\n",
      "Tempo de Execução: 0.000601s\n",
      "-------------------\n",
      "\n",
      "VETOR ORDENADO\n",
      "\n",
      "4\n",
      "N = 10.000\n",
      "\n",
      "\n",
      "Número de Instruções 0\n",
      "\n",
      "Tempo de Execução: 6.759851s\n",
      "-------------------\n",
      "\n",
      "VETOR ORDENADO\n",
      "\n",
      "5\n",
      "N = 100.000\n",
      "\n",
      "Número de Instruções 0\n",
      "\n",
      "Tempo de Execução: 736.527934s\n",
      "-------------------\n",
      "\n",
      "VETOR ALEATÓRIO\n",
      "\n",
      "6\n",
      "N = 100\n",
      "\n",
      "\n",
      "Número de Instruções 292\n",
      "\n",
      "Tempo de Execução: 0.000635s\n",
      "-------------------\n",
      "\n",
      "VETOR ALEATÓRIO\n",
      "\n",
      "7\n",
      "N = 10.000\n",
      "\n",
      "\n",
      "Número de Instruções 76398\n",
      "\n",
      "Tempo de Execução: 6.851508s\n",
      "-------------------\n",
      "\n",
      "VETOR ALEATÓRIO\n",
      "\n",
      "8\n",
      "N = 100.000\n",
      "\n",
      "Número de Instruções 984995\n",
      "\n",
      "Tempo de Execução: 812.625907s\n",
      "-------------------\n",
      "\n"
     ]
    }
   ],
   "source": [
    "import timeit\n",
    "\n",
    "vetores = [data_sm_des, data_md_des, data_xl_des,\n",
    "           data_sm_ord, data_md_ord, data_xl_ord,\n",
    "           data_sm, data_md, data_xl]\n",
    "entradas = [100, 10000, 100000]\n",
    "\n",
    "for vetor in vetores:\n",
    "    aux = vetores.index(vetor)\n",
    "    if 0 <= aux <= 2:\n",
    "        print('VETOR DESORDENADO\\n')\n",
    "    elif 3 <= aux <= 5:\n",
    "        print('VETOR ORDENADO\\n')\n",
    "    else:\n",
    "        print('VETOR ALEATÓRIO\\n')\n",
    "    print(aux)\n",
    "    \n",
    "    if aux == 0 or aux == 3 or aux == 6:\n",
    "        print('N = 100\\n')\n",
    "    elif aux == 1 or aux == 4 or aux == 7:\n",
    "        print('N = 10.000\\n')\n",
    "    else:\n",
    "        print('N = 100.000')\n",
    "    \n",
    "    inicio = timeit.default_timer()\n",
    "    data, count_instruction = selectionSort(vetor)\n",
    "    fim = timeit.default_timer()\n",
    "    \n",
    "    print('\\nNúmero de Instruções %d' % count_instruction)\n",
    "    print('\\nTempo de Execução: %fs' % (fim - inicio))\n",
    "    print('-------------------\\n')"
   ]
  },
  {
   "cell_type": "markdown",
   "metadata": {},
   "source": [
    "Analisando o algoritmo SelectionSort, verifica-se que, independente da entrada, o algoritmo sempre executa o laço mais interno n*(n+1)/2. Logo, não tem melhor e nem pior caso, sempre é O(n²). Como foi percebido com a execução do algoritmo para diferentes tamanhos de n (100, 10.000 e 100.000), quanto maior a entrada, maior foi o tempo de execução (independente se o vetor estava ordenado, desodernado ou com valores aleatórios)."
   ]
  },
  {
   "cell_type": "markdown",
   "metadata": {},
   "source": [
    "![](./selection.png)"
   ]
  },
  {
   "cell_type": "code",
   "execution_count": null,
   "metadata": {},
   "outputs": [],
   "source": []
  }
 ],
 "metadata": {
  "kernelspec": {
   "display_name": "Python 3",
   "language": "python",
   "name": "python3"
  },
  "language_info": {
   "codemirror_mode": {
    "name": "ipython",
    "version": 3
   },
   "file_extension": ".py",
   "mimetype": "text/x-python",
   "name": "python",
   "nbconvert_exporter": "python",
   "pygments_lexer": "ipython3",
   "version": "3.7.1"
  }
 },
 "nbformat": 4,
 "nbformat_minor": 2
}
